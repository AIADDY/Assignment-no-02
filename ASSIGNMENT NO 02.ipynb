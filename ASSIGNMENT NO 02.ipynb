{
 "cells": [
  {
   "cell_type": "markdown",
   "id": "5220f205",
   "metadata": {},
   "source": [
    "### Scenario 1: "
   ]
  },
  {
   "cell_type": "markdown",
   "id": "4d5d925e",
   "metadata": {},
   "source": [
    "Grocery Shopping List\n",
    "You are creating a program to manage a grocery shopping list. Users should be able to add items, remove items, and display the current list."
   ]
  },
  {
   "cell_type": "code",
   "execution_count": 1,
   "id": "beec9730",
   "metadata": {},
   "outputs": [],
   "source": [
    "Grocery_list = ['Rice', 'Wheat', 'Oil', 'Shampoo', 'Soap','Sugar']"
   ]
  },
  {
   "cell_type": "code",
   "execution_count": 2,
   "id": "e7a1b8fc",
   "metadata": {},
   "outputs": [
    {
     "data": {
      "text/plain": [
       "['Rice', 'Wheat', 'Oil', 'Shampoo', 'Soap', 'Sugar']"
      ]
     },
     "execution_count": 2,
     "metadata": {},
     "output_type": "execute_result"
    }
   ],
   "source": [
    "Grocery_list"
   ]
  },
  {
   "cell_type": "code",
   "execution_count": 3,
   "id": "e8d9f2fa",
   "metadata": {},
   "outputs": [],
   "source": [
    "Grocery_list = Grocery_list + ['Spices', 'Tea']"
   ]
  },
  {
   "cell_type": "code",
   "execution_count": 4,
   "id": "1c644e78",
   "metadata": {},
   "outputs": [
    {
     "data": {
      "text/plain": [
       "['Rice', 'Wheat', 'Oil', 'Shampoo', 'Soap', 'Sugar', 'Spices', 'Tea']"
      ]
     },
     "execution_count": 4,
     "metadata": {},
     "output_type": "execute_result"
    }
   ],
   "source": [
    "Grocery_list"
   ]
  },
  {
   "cell_type": "code",
   "execution_count": 5,
   "id": "354fab86",
   "metadata": {},
   "outputs": [
    {
     "data": {
      "text/plain": [
       "'Oil'"
      ]
     },
     "execution_count": 5,
     "metadata": {},
     "output_type": "execute_result"
    }
   ],
   "source": [
    "Grocery_list.pop(2)\n"
   ]
  },
  {
   "cell_type": "code",
   "execution_count": 6,
   "id": "c31e4405",
   "metadata": {},
   "outputs": [
    {
     "data": {
      "text/plain": [
       "['Rice', 'Wheat', 'Shampoo', 'Soap', 'Sugar', 'Spices', 'Tea']"
      ]
     },
     "execution_count": 6,
     "metadata": {},
     "output_type": "execute_result"
    }
   ],
   "source": [
    "Grocery_list"
   ]
  },
  {
   "cell_type": "code",
   "execution_count": 7,
   "id": "845c3b7d",
   "metadata": {},
   "outputs": [],
   "source": [
    "Current_list = Grocery_list.copy()\n"
   ]
  },
  {
   "cell_type": "code",
   "execution_count": 8,
   "id": "eb348798",
   "metadata": {},
   "outputs": [
    {
     "data": {
      "text/plain": [
       "['Rice', 'Wheat', 'Shampoo', 'Soap', 'Sugar', 'Spices', 'Tea']"
      ]
     },
     "execution_count": 8,
     "metadata": {},
     "output_type": "execute_result"
    }
   ],
   "source": [
    "Current_list"
   ]
  },
  {
   "cell_type": "markdown",
   "id": "fed771cd",
   "metadata": {},
   "source": [
    "### Scenario 2: "
   ]
  },
  {
   "cell_type": "markdown",
   "id": "d90c3901",
   "metadata": {},
   "source": [
    "Student Grades You are managing student grades using a dictionary. You need to calculate the average grade.take atleast 5 Students grades & then calculate the average."
   ]
  },
  {
   "cell_type": "code",
   "execution_count": 9,
   "id": "b3441ea7",
   "metadata": {},
   "outputs": [],
   "source": [
    "student_grades = {'student1' : 75,\n",
    "                 'student2' : 48,\n",
    "                 'student3': 66,\n",
    "                 'student4': 99,\n",
    "                 'student': 76,}"
   ]
  },
  {
   "cell_type": "code",
   "execution_count": 10,
   "id": "1f880129",
   "metadata": {},
   "outputs": [
    {
     "data": {
      "text/plain": [
       "{'student1': 75, 'student2': 48, 'student3': 66, 'student4': 99, 'student': 76}"
      ]
     },
     "execution_count": 10,
     "metadata": {},
     "output_type": "execute_result"
    }
   ],
   "source": [
    "student_grades\n"
   ]
  },
  {
   "cell_type": "code",
   "execution_count": 11,
   "id": "8a2f48e0",
   "metadata": {},
   "outputs": [
    {
     "name": "stdout",
     "output_type": "stream",
     "text": [
      "STUDENT GRADES : {'student1': 75, 'student2': 48, 'student3': 66, 'student4': 99, 'student': 76}\n",
      "TOTAL GRADES : 364\n",
      "NUMBER OF STUDENT : 5\n",
      "AVERAGE GRADE : 72.8\n"
     ]
    }
   ],
   "source": [
    "total_grades = sum(student_grades.values())\n",
    "number_of_student = len(student_grades)\n",
    "average_grades = total_grades / number_of_student\n",
    "\n",
    "print('STUDENT GRADES :', student_grades )\n",
    "print('TOTAL GRADES :', total_grades )\n",
    "print('NUMBER OF STUDENT :', number_of_student )\n",
    "print('AVERAGE GRADE :',average_grades )"
   ]
  },
  {
   "cell_type": "markdown",
   "id": "3a5f862b",
   "metadata": {},
   "source": [
    "### Scenario 3:"
   ]
  },
  {
   "cell_type": "markdown",
   "id": "41750ee4",
   "metadata": {},
   "source": [
    "Word Frequency Counter\n",
    "You are given a list of words, and you need to count the frequency of each word.\n",
    "word_list = [\"apple\", \"banana\", \"apple\", \"orange\", \"banana\", \"grape\", \"apple\"]"
   ]
  },
  {
   "cell_type": "code",
   "execution_count": 12,
   "id": "64c82ac4",
   "metadata": {},
   "outputs": [],
   "source": [
    "word_list = [\"apple\", \"banana\", \"apple\", \"orange\", \"banana\", \"grape\", \"apple\"]\n"
   ]
  },
  {
   "cell_type": "code",
   "execution_count": 13,
   "id": "a6c4bb4c",
   "metadata": {},
   "outputs": [
    {
     "data": {
      "text/plain": [
       "['apple', 'banana', 'apple', 'orange', 'banana', 'grape', 'apple']"
      ]
     },
     "execution_count": 13,
     "metadata": {},
     "output_type": "execute_result"
    }
   ],
   "source": [
    "word_list"
   ]
  },
  {
   "cell_type": "code",
   "execution_count": 14,
   "id": "731853f9",
   "metadata": {},
   "outputs": [],
   "source": [
    "fruit_count ={}\n"
   ]
  },
  {
   "cell_type": "code",
   "execution_count": 15,
   "id": "275bb4a0",
   "metadata": {},
   "outputs": [
    {
     "name": "stdout",
     "output_type": "stream",
     "text": [
      "apple : 3 times\n",
      "banana : 2 times\n",
      "orange : 1 times\n",
      "grape : 1 times\n"
     ]
    }
   ],
   "source": [
    "for word in word_list:\n",
    "    if word in fruit_count:\n",
    "        fruit_count[word] +=1\n",
    "    else:\n",
    "        fruit_count[word] = 1\n",
    "for word, fruit in fruit_count.items():\n",
    "    print(f\"{word} : {fruit} times\")"
   ]
  },
  {
   "cell_type": "markdown",
   "id": "c37323a3",
   "metadata": {},
   "source": [
    "### Scenario 4:"
   ]
  },
  {
   "cell_type": "markdown",
   "id": "bae3b327",
   "metadata": {},
   "source": [
    "Password Strength Checker\n",
    "You are creating a program to check the strength of passwords based on certain criteria.\n",
    "•\n",
    "Password should be at least 8 characters long.\n",
    "•\n",
    "Password should contain at least one digit.\n",
    "•\n",
    "Password should contain at least one letter."
   ]
  },
  {
   "cell_type": "code",
   "execution_count": 17,
   "id": "6d7b40ae",
   "metadata": {},
   "outputs": [
    {
     "name": "stdout",
     "output_type": "stream",
     "text": [
      "Enter your password: ADNAN123$\n",
      "ADNAN123$\n"
     ]
    }
   ],
   "source": [
    "letter = \"abcdefgijklmnopqrstuvwxyz\"\n",
    "digit = \"0123456789\"\n",
    "\n",
    "password = input(\"Enter your password: \" )\n",
    "\n",
    "if len(password) > 8 and letter and digit:\n",
    "    print(password)\n",
    "else:\n",
    "    if len(password) < 8:\n",
    "        print(\"plz use at least 8 character long\")\n",
    "    if password != digit:\n",
    "        print(\"plz contain at least one character\")\n",
    "    if password != letter:\n",
    "        print(\"plz contain at least one letter\")"
   ]
  },
  {
   "cell_type": "markdown",
   "id": "b6ac9051",
   "metadata": {},
   "source": [
    "### Scenario 05:"
   ]
  },
  {
   "cell_type": "markdown",
   "id": "287027ae",
   "metadata": {},
   "source": [
    "Voting System (Annual Employee Recognition Awards)\n",
    "You are developing a simple voting system for a contest. Users can vote for their Favorite option, and you need to count the votes.\n",
    "In a corporate setting, the HR department is organizing the Annual Employee Recognition Awards, where employees get the opportunity to vote for their colleagues nominated in different categories. The HR team has decided to use a simple voting system to collect and tally votes for the nominees in various award categories. The script provided will be utilized for this purpose.\n",
    "Candidates: The nominees for different award categories, such as \"Employee of the Year,\" \"Team Player of the Year,\" and \"Innovation Award,\" are represented by the list of candidates: 'Candidate A,' 'Candidate B,' and 'Candidate C.'\n",
    "Voting Process: Employees are requested to input the number of voters participating in the awards. Each voter is presented with a list of nominees, and they can vote for their preferred candidate by entering the corresponding number.\n",
    "Validation: The script ensures that the entered vote is within the valid range of candidates. If an employee enters an invalid vote, the system prompts them to choose a valid candidate.\n",
    "Recording Votes: The script records each vote for the selected candidate and prints a confirmation message indicating that the vote has been recorded.\n",
    "Results Display: Once all votes are collected, the system displays the voting results, showing the number of votes each candidate received in each category.\n",
    "Award Winners: Based on the voting results, the HR department can identify the winners for each award category and proceed with recognizing and rewarding the selected employees during the Annual Employee Recognition Ceremony.\n",
    "This script provides a straightforward and transparent way for employees to participate in the recognition process, fostering a sense of engagement and community within the organization. The HR team can use the collected votes to acknowledge and appreciate the efforts of outstanding employees in various aspects of their work."
   ]
  },
  {
   "cell_type": "code",
   "execution_count": 22,
   "id": "d1c5cc4c",
   "metadata": {},
   "outputs": [
    {
     "name": "stdout",
     "output_type": "stream",
     "text": [
      "Enter the number of voters: 3\n",
      "Candidates:\n",
      "1. Candidate A\n",
      "2. Candidate B\n",
      "3. Candidate C\n",
      "Enter the number corresponding to your chosen candidate: 2\n",
      "Vote recorded for Candidate B.\n",
      "\n",
      "Candidates:\n",
      "1. Candidate A\n",
      "2. Candidate B\n",
      "3. Candidate C\n",
      "Enter the number corresponding to your chosen candidate: 3\n",
      "Vote recorded for Candidate C.\n",
      "\n",
      "Candidates:\n",
      "1. Candidate A\n",
      "2. Candidate B\n",
      "3. Candidate C\n",
      "Enter the number corresponding to your chosen candidate: 2\n",
      "Vote recorded for Candidate B.\n",
      "\n",
      "\n",
      "Voting Results:\n",
      "Candidate A: 0 votes\n",
      "Candidate B: 2 votes\n",
      "Candidate C: 1 votes\n",
      "\n",
      "Candidate B wins!\n"
     ]
    }
   ],
   "source": [
    "def print_candidates():\n",
    "    print(\"Candidates:\")\n",
    "    print(\"1. Candidate A\")\n",
    "    print(\"2. Candidate B\")\n",
    "    print(\"3. Candidate C\")\n",
    "\n",
    "def get_valid_vote():\n",
    "    while True:\n",
    "        try:\n",
    "            vote = int(input(\"Enter the number corresponding to your chosen candidate: \"))\n",
    "            if 1 <= vote <= 3:\n",
    "                return vote\n",
    "            else:\n",
    "                print(\"Invalid vote. Please enter a number between 1 and 3.\")\n",
    "        except ValueError:\n",
    "            print(\"Invalid input. Please enter a number.\")\n",
    "\n",
    "def main():\n",
    "    candidates = ['Candidate A', 'Candidate B', 'Candidate C']\n",
    "\n",
    "    num_voters = int(input(\"Enter the number of voters: \"))\n",
    "\n",
    "    votes = [0] * len(candidates)\n",
    "\n",
    "    for _ in range(num_voters):\n",
    "        print_candidates()\n",
    "        vote = get_valid_vote()\n",
    "        votes[vote - 1] += 1\n",
    "        print(f\"Vote recorded for {candidates[vote - 1]}.\\n\")\n",
    "\n",
    "    print(\"\\nVoting Results:\")\n",
    "    for i, candidate in enumerate(candidates):\n",
    "        print(f\"{candidate}: {votes[i]} votes\")\n",
    "\n",
    "\n",
    "    winner_index = votes.index(max(votes))\n",
    "    print(f\"\\n{candidates[winner_index]} wins!\")\n",
    "\n",
    "if __name__ == \"__main__\":\n",
    "    main()"
   ]
  },
  {
   "cell_type": "code",
   "execution_count": null,
   "id": "eadbaa41",
   "metadata": {},
   "outputs": [],
   "source": []
  }
 ],
 "metadata": {
  "kernelspec": {
   "display_name": "Python 3 (ipykernel)",
   "language": "python",
   "name": "python3"
  },
  "language_info": {
   "codemirror_mode": {
    "name": "ipython",
    "version": 3
   },
   "file_extension": ".py",
   "mimetype": "text/x-python",
   "name": "python",
   "nbconvert_exporter": "python",
   "pygments_lexer": "ipython3",
   "version": "3.11.5"
  }
 },
 "nbformat": 4,
 "nbformat_minor": 5
}
